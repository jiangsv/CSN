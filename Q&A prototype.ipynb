{
 "cells": [
  {
   "cell_type": "code",
   "execution_count": 1,
   "metadata": {},
   "outputs": [],
   "source": [
    "import csv, os\n",
    "import random\n",
    "import pandas as pd\n",
    "import numpy as np\n",
    "from pandas import ExcelWriter\n",
    "from pandas import ExcelFile\n",
    "\n",
    "\n",
    "os.chdir(r\"c:\\\\Users\\fx808\\Desktop\") \n",
    "\n",
    "df = pd.read_excel('test.xlsx', index_col=0)\n",
    "\n",
    "# 若需要确认Excel内容，输入：\n",
    "\n",
    "#print(df)"
   ]
  },
  {
   "cell_type": "code",
   "execution_count": 2,
   "metadata": {
    "scrolled": true
   },
   "outputs": [],
   "source": [
    "list = []\n",
    "while len(list) <= 9:\n",
    "    i = random.choice(range(1,(len(df.index))))\n",
    "    if i not in list:\n",
    "        list.append(i)\n",
    "    else:\n",
    "         continue\n",
    "        \n",
    "qa_df = pd.DataFrame(df, index = list)    \n",
    "a_s = qa_df['answer']\n",
    "q_df = qa_df.reset_index()\n",
    "\n",
    "line= ''\n",
    "\n",
    "\n",
    "\n",
    "for i in range(10):\n",
    "    choiceslen = int(0)\n",
    "    line = line + str(i + 1) + '：' + q_df.loc[i][1] + '\\r\\n'\n",
    "    for n in (2, 3, 4, 5):\n",
    "        choiceslen = choiceslen + len(q_df.loc[i][n]) + 4 * (n - 2)\n",
    "        if choiceslen<=60:\n",
    "            line = line + chr(95 + n).upper() + q_df.loc[i][n] + '    '\n",
    "        else:\n",
    "            line = line + '\\r\\n' + chr(95 + n).upper() + q_df.loc[i][n] + '    '\n",
    "            choiceslen = int(0)\n",
    "    line = line + '\\r\\n'\n",
    "\n",
    "# print(line)\n"
   ]
  },
  {
   "cell_type": "code",
   "execution_count": 3,
   "metadata": {},
   "outputs": [
    {
     "data": {
      "text/plain": [
       "[4, 16, 13, 19, 14, 11, 5, 9, 6, 2]"
      ]
     },
     "execution_count": 3,
     "metadata": {},
     "output_type": "execute_result"
    }
   ],
   "source": [
    "list"
   ]
  },
  {
   "cell_type": "code",
   "execution_count": 4,
   "metadata": {},
   "outputs": [],
   "source": [
    "#  在工作目录创建文档picked_csv.csv 文档\n",
    "#  s_file.to_csv('picked_csv.csv', quoting=0 , sep=' ', index=False, header=False)"
   ]
  },
  {
   "cell_type": "code",
   "execution_count": 5,
   "metadata": {
    "scrolled": true
   },
   "outputs": [
    {
     "name": "stdout",
     "output_type": "stream",
     "text": [
      "B737机型   姓名______    员工号______    申请等级__    成绩____\n",
      " 机型理论（一共10题,在左侧写出答案选项 A/B/C/D)\n",
      "1：截获下滑道以后，有哪些方式可以终止进近方式截获下滑道以后，有哪些方式可以终止进近方式截获下滑道以后，有哪些方式可以终止进近方式？\r\n",
      "A答案A可垃圾分类考试等级分类考试的加分    BB：答案abcsldjfoe    CC：test    \r\n",
      "DD：答案abcsldjfoe    \r\n",
      "2：testtesttest？\r\n",
      "A答案A可垃圾分类考试等级分类考试的加分    BB：答案1236    CC：答案123    \r\n",
      "DD：答案123    \r\n",
      "3：增重行飞机的zfw是多少增重行飞机的zfw是多少增重行飞机的zfw是多少增重行飞机的zfw是多少增重行飞机的zfw是多少？截获下滑道以后，有哪些方式可以终止进近方式截获下滑道以后，有哪些方式可以终止进近方式？截获下滑道以后，有哪些方式可以终止进近方式截获下滑道以后，有哪些方式可以终止进近方式？\r\n",
      "A答案A可垃圾分类考试等级分类考试的加分    BB：答案abcsldjfoe    \r\n",
      "CC：方法三，这个方法需要很长的文字，还有好多，1232132132465456456789798798123465798    DD：答案123    \r\n",
      "4：test\r\n",
      "A答案A可垃圾分类考试等级分类考试的加分    \r\n",
      "BB：方法三，这个方法需要很长的文字，还有好多，1232132132465456456789798798123465798    \r\n",
      "CC：方法三，这个方法需要很长的文字，还有好多，1232132132465456456789798798123465798    \r\n",
      "DD：方法三，这个方法需要很长的文字，还有好多，1232132132465456456789798798123465798    \r\n",
      "5：737不带小翼和带小翼的飞机，翼展分别为多少？\r\n",
      "A答案A可垃圾分类考试等级分类考试的加分    BB：答案1236    CC：答案123    \r\n",
      "DD：答案123    \r\n",
      "6：增重行飞机的zfw是多少\r\n",
      "A答案A可垃圾分类考试等级分类考试的加分    BB：答案1236    CC：答案123    \r\n",
      "DD：答案123    \r\n",
      "7：737不带小翼和带小翼的飞机，翼展分别为多少？\r\n",
      "A答案A可垃圾分类考试等级分类考试的加分    BB：    CC：数字数字    DD：数字数字    \r\n",
      "8：增重行飞机的zfw是多少\r\n",
      "A答案A可垃圾分类考试等级分类考试的加分    BB：test    CC：test    \r\n",
      "DD：答案123    \r\n",
      "9：test截获下滑道以后，有哪些方式可以终止进近方式截获下滑道以后，有哪些方式可以终止进近方式？截获下滑道以后，有哪些方式可以终止进近方式截获下滑道以后，有哪些方式可以终止进近方式？截获下滑道以后，有哪些方式可以终止进近方式截获下滑道以后，有哪些方式可以终止进近方式？\r\n",
      "A答案A可垃圾分类考试等级分类考试的加分    BB：答案1236    CC：答案abcsldjfoe    \r\n",
      "DD：test    \r\n",
      "10：截获下滑道以后，有哪些方式可以终止进近方式?\r\n",
      "A答案A可垃圾分类考试等级分类考试的加分    BB：方法二方法二方法二方法二方法二    \r\n",
      "CC：方法三，这个方法需要很长的文字，还有好多，1232132132465456456789798798123465798    DD：以上都是对的    \r\n",
      "\n"
     ]
    }
   ],
   "source": [
    "Q_outpput = (f'B737机型   姓名______    员工号______    申请等级__    成绩____\\n 机型理论（一共10题,在左侧写出答案选项 A/B/C/D)\\n{line}')\n",
    "print(Q_outpput)"
   ]
  },
  {
   "cell_type": "code",
   "execution_count": 6,
   "metadata": {},
   "outputs": [
    {
     "data": {
      "text/plain": [
       "str"
      ]
     },
     "execution_count": 6,
     "metadata": {},
     "output_type": "execute_result"
    }
   ],
   "source": [
    "type(Q_outpput)"
   ]
  },
  {
   "cell_type": "code",
   "execution_count": 7,
   "metadata": {},
   "outputs": [
    {
     "data": {
      "text/plain": [
       "4     正确答案\n",
       "16    正确答案\n",
       "13    正确答案\n",
       "19    正确答案\n",
       "14    正确答案\n",
       "11    正确答案\n",
       "5     正确答案\n",
       "9     正确答案\n",
       "6     正确答案\n",
       "2     正确答案\n",
       "Name: answer, dtype: object"
      ]
     },
     "execution_count": 7,
     "metadata": {},
     "output_type": "execute_result"
    }
   ],
   "source": [
    "a_s"
   ]
  },
  {
   "cell_type": "code",
   "execution_count": 8,
   "metadata": {},
   "outputs": [],
   "source": [
    "a_s.index = [1, 2, 3, 4 ,5, 6, 7, 8, 9, 10]"
   ]
  },
  {
   "cell_type": "code",
   "execution_count": 9,
   "metadata": {},
   "outputs": [
    {
     "data": {
      "text/plain": [
       "1     正确答案\n",
       "2     正确答案\n",
       "3     正确答案\n",
       "4     正确答案\n",
       "5     正确答案\n",
       "6     正确答案\n",
       "7     正确答案\n",
       "8     正确答案\n",
       "9     正确答案\n",
       "10    正确答案\n",
       "Name: answer, dtype: object"
      ]
     },
     "execution_count": 9,
     "metadata": {},
     "output_type": "execute_result"
    }
   ],
   "source": [
    "a_s"
   ]
  },
  {
   "cell_type": "code",
   "execution_count": 10,
   "metadata": {},
   "outputs": [
    {
     "data": {
      "text/plain": [
       "Int64Index([1, 2, 3, 4, 5, 6, 7, 8, 9, 10], dtype='int64')"
      ]
     },
     "execution_count": 10,
     "metadata": {},
     "output_type": "execute_result"
    }
   ],
   "source": [
    "a_s.index"
   ]
  },
  {
   "cell_type": "code",
   "execution_count": null,
   "metadata": {},
   "outputs": [],
   "source": []
  }
 ],
 "metadata": {
  "kernelspec": {
   "display_name": "Python 3",
   "language": "python",
   "name": "python3"
  },
  "language_info": {
   "codemirror_mode": {
    "name": "ipython",
    "version": 3
   },
   "file_extension": ".py",
   "mimetype": "text/x-python",
   "name": "python",
   "nbconvert_exporter": "python",
   "pygments_lexer": "ipython3",
   "version": "3.7.4"
  }
 },
 "nbformat": 4,
 "nbformat_minor": 2
}
